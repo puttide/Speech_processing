{
  "nbformat": 4,
  "nbformat_minor": 0,
  "metadata": {
    "colab": {
      "name": "Speech_to _melspectogram.ipynb",
      "provenance": [],
      "collapsed_sections": []
    },
    "kernelspec": {
      "name": "python3",
      "display_name": "Python 3"
    }
  },
  "cells": [
    {
      "cell_type": "code",
      "metadata": {
        "id": "TbuVYPv-k60B",
        "colab": {
          "base_uri": "https://localhost:8080/",
          "height": 124
        },
        "outputId": "5860547e-f3cd-413a-98f0-45b7efabc385"
      },
      "source": [
        "from google.colab import drive\n",
        "drive.mount('/content/gdrive')"
      ],
      "execution_count": null,
      "outputs": [
        {
          "output_type": "stream",
          "text": [
            "Go to this URL in a browser: https://accounts.google.com/o/oauth2/auth?client_id=947318989803-6bn6qk8qdgf4n4g3pfee6491hc0brc4i.apps.googleusercontent.com&redirect_uri=urn%3Aietf%3Awg%3Aoauth%3A2.0%3Aoob&scope=email%20https%3A%2F%2Fwww.googleapis.com%2Fauth%2Fdocs.test%20https%3A%2F%2Fwww.googleapis.com%2Fauth%2Fdrive%20https%3A%2F%2Fwww.googleapis.com%2Fauth%2Fdrive.photos.readonly%20https%3A%2F%2Fwww.googleapis.com%2Fauth%2Fpeopleapi.readonly&response_type=code\n",
            "\n",
            "Enter your authorization code:\n",
            "··········\n",
            "Mounted at /content/gdrive\n"
          ],
          "name": "stdout"
        }
      ]
    },
    {
      "cell_type": "code",
      "metadata": {
        "id": "zy2tY20CoJac",
        "colab": {
          "base_uri": "https://localhost:8080/",
          "height": 35
        },
        "outputId": "166b6e79-877a-4d38-8d86-c63c421b53fc"
      },
      "source": [
        "!ls \"/content/gdrive/My Drive/Dataset_Chitralekha_ISMIR2018\""
      ],
      "execution_count": null,
      "outputs": [
        {
          "output_type": "stream",
          "text": [
            "README.txt  Test  test.txt  Train  train.txt\n"
          ],
          "name": "stdout"
        }
      ]
    },
    {
      "cell_type": "code",
      "metadata": {
        "id": "0n40GNs2wV_u"
      },
      "source": [
        "import os\n",
        "allvoces=[]\n",
        "path= \"/content/gdrive/My Drive/Dataset_Chitralekha_ISMIR2018/Train\"\n",
        "for voice in os.listdir(path):\n",
        "    if(voice.endswith('.wav') ):\n",
        "      allvoces.append(os.path.join(path,voice))\n",
        "      \n",
        "\n",
        "      "
      ],
      "execution_count": null,
      "outputs": []
    },
    {
      "cell_type": "code",
      "metadata": {
        "id": "macyBLJx05no",
        "colab": {
          "base_uri": "https://localhost:8080/",
          "height": 69
        },
        "outputId": "8b775f27-0562-4210-cffc-b281cfcb40e8"
      },
      "source": [
        "import numpy as np\n",
        "import librosa\n",
        "import matplotlib.pyplot as plt\n",
        "\n",
        "import librosa.display\n",
        "import librosa.effects\n",
        "\n",
        "def loadsongs(allvoces):\n",
        "    allsongs=[]\n",
        "    for song in allvoces[0:15]:\n",
        "        y1,sr1=librosa.load(song)\n",
        "        audio_length = librosa.get_duration(y=y1, sr=sr1)\n",
        "        y, sr = librosa.load(song,offset=2.0,duration=(audio_length-4.0))\n",
        "    #librosa.display.waveplot(y,sr)\n",
        "        #wave=y\n",
        "        allsongs.append(y)\n",
        "        allsong=np.asarray(allsongs)\n",
        "    return allsong,sr\n",
        "allsong,sr=loadsongs(allvoces)\n",
        "#x=np.asarray(allsongs)\n",
        "print(allsong[0])\n",
        "print(sr)\n",
        "  \n",
        "  \n",
        "\n",
        "\n",
        "def melspec(allsongs,sr,n_mels,fmax):\n",
        "    Slist=[]\n",
        "    for y in allsongs:\n",
        "        \n",
        "        S = librosa.feature.melspectrogram(y=y, sr=sr, n_mels=n_mels, fmax=fmax)\n",
        "        Slist.append(S)\n",
        "    return Slist\n",
        "  \n",
        "allsongs= loadsongs(allvoces)\n",
        "sr=allsongs[1]\n",
        "melspect=[]\n",
        "melspect=melspec(allsongs[0],sr,128,4000)\n",
        "#print(melspec.shape())\n",
        "\n",
        "\n",
        "\n",
        "    \n",
        "\n"
      ],
      "execution_count": null,
      "outputs": [
        {
          "output_type": "stream",
          "text": [
            "[-0.00153492 -0.0011112  -0.00121413 ... -0.03324494 -0.02589634\n",
            "  0.        ]\n",
            "22050\n"
          ],
          "name": "stdout"
        }
      ]
    }
  ]
}